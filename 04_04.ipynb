{
 "cells": [
  {
   "cell_type": "code",
   "execution_count": null,
   "metadata": {},
   "outputs": [
    {
     "name": "stdout",
     "output_type": "stream",
     "text": [
      "start index: 1\n",
      "end index: 5\n",
      "[0, 1, 1, 1, 1, 0, 0, 0, 0]\n"
     ]
    }
   ],
   "source": [
    "myList=[0,0,0,0,0,0,0,0,0]\n",
    "for j in range(1,6):\n",
    "    start=int(input('start index: '))\n",
    "    end=int(input('end index: '))+1\n",
    "    \n",
    "    newList=myList[start:end]\n",
    "    #print(newList)\n",
    "    #print(len(newList))\n",
    "    i=0\n",
    "    while i <len(newList):\n",
    "        newList[i]+=1\n",
    "        i+=1\n",
    "    #print(newList)\n",
    "    myList[start:end]=newList[:]\n",
    "    print(myList)\n"
   ]
  },
  {
   "cell_type": "code",
   "execution_count": 5,
   "metadata": {},
   "outputs": [
    {
     "name": "stdout",
     "output_type": "stream",
     "text": [
      "단어를 입력해주세요: iiii\n",
      "y가 존재하지 않습니다.\n"
     ]
    }
   ],
   "source": [
    "a=input('단어를 입력해주세요: ')\n",
    "cnt=0\n",
    "\n",
    "for i in a:\n",
    "    #print(i)\n",
    "    if i=='y':\n",
    "        print('y가 존재합니다.')\n",
    "        cnt+=1\n",
    "        break\n",
    "if cnt==0:\n",
    "    print('y가 존재하지 않습니다.')"
   ]
  },
  {
   "cell_type": "code",
   "execution_count": null,
   "metadata": {},
   "outputs": [],
   "source": [
    "a=input('단어를 입력해주세요: ')\n",
    "a.split(',')\n",
    "print(a)\n",
    "for i in a:\n",
    "    #print(i)\n",
    "    if i=='y':\n",
    "        print('y가 존재합니다.')\n",
    "    else:\n",
    "        print('y가 존재하지 않습니다.')\n",
    "        break"
   ]
  },
  {
   "cell_type": "code",
   "execution_count": null,
   "metadata": {},
   "outputs": [],
   "source": []
  }
 ],
 "metadata": {
  "kernelspec": {
   "display_name": "Python 3",
   "language": "python",
   "name": "python3"
  },
  "language_info": {
   "codemirror_mode": {
    "name": "ipython",
    "version": 3
   },
   "file_extension": ".py",
   "mimetype": "text/x-python",
   "name": "python",
   "nbconvert_exporter": "python",
   "pygments_lexer": "ipython3",
   "version": "3.7.4"
  }
 },
 "nbformat": 4,
 "nbformat_minor": 2
}
