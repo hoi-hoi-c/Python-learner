{
 "cells": [
  {
   "cell_type": "code",
   "execution_count": null,
   "metadata": {},
   "outputs": [
    {
     "name": "stdout",
     "output_type": "stream",
     "text": [
      "당신은 공룡이 살고 있는 지역에 들어와 있습니다.\n",
      "당신 앞에 두 개의 동굴이 보이는군요.\n",
      "한쪽 동굴은 친절한 공룡이 살고 있어서 당신에게 보물을 나눠줄 것입니다.\n",
      "다른 쪽 동굴의 공룡은 무섭고, 배가고픈 공룡이어서 당신을 한 입에 먹어버릴 것입니다.\n",
      "어떤 동굴로 들어가시겠습니까? (1 or 2): 1\n",
      "동굴로 들어가고 있습니다.\n",
      "동굴은 어둡고 춥습니다.\n",
      "커다란 공룡이 당신 앞으로 나와 입을 쩍....!!!\n",
      "\n",
      "착한 공룡이 인사하며 다이아몬드를 선물로 주었습니다 ~^0^~\n",
      "게임을 다시 시작하시겠습니까? (Yes/No):y\n",
      "당신은 공룡이 살고 있는 지역에 들어와 있습니다.\n",
      "당신 앞에 두 개의 동굴이 보이는군요.\n",
      "한쪽 동굴은 친절한 공룡이 살고 있어서 당신에게 보물을 나눠줄 것입니다.\n",
      "다른 쪽 동굴의 공룡은 무섭고, 배가고픈 공룡이어서 당신을 한 입에 먹어버릴 것입니다.\n",
      "어떤 동굴로 들어가시겠습니까? (1 or 2): 4\n",
      "어떤 동굴로 들어가시겠습니까? (1 or 2): 3\n",
      "어떤 동굴로 들어가시겠습니까? (1 or 2): 4\n"
     ]
    }
   ],
   "source": [
    "import time\n",
    "import random\n",
    "\n",
    "def opening():\n",
    "    print('당신은 공룡이 살고 있는 지역에 들어와 있습니다.')\n",
    "    time.sleep(2)\n",
    "    print('당신 앞에 두 개의 동굴이 보이는군요.')\n",
    "    time.sleep(2)\n",
    "    print('한쪽 동굴은 친절한 공룡이 살고 있어서 당신에게 보물을 나눠줄 것입니다.')\n",
    "    time.sleep(2)\n",
    "    print('다른 쪽 동굴의 공룡은 무섭고, 배가고픈 공룡이어서 당신을 한 입에 먹어버릴 것입니다.')\n",
    "\n",
    "def choice():\n",
    "    while True:\n",
    "        dino=['diamond','death']\n",
    "        a=int(input('어떤 동굴로 들어가시겠습니까? (1 or 2): '))\n",
    "        if a in (1,2): \n",
    "            destiny=random.choice(dino)\n",
    "            #print(destiny)\n",
    "            return destiny\n",
    "\n",
    "def ending():\n",
    "    print('동굴로 들어가고 있습니다.')\n",
    "    time.sleep(2)\n",
    "    print('동굴은 어둡고 춥습니다.')\n",
    "    time.sleep(2)\n",
    "    print('커다란 공룡이 당신 앞으로 나와 입을 쩍....!!!\\n')\n",
    "    time.sleep(2)\n",
    "    if destiny=='diamond':\n",
    "        print('착한 공룡이 인사하며 다이아몬드를 선물로 주었습니다 ~^0^~')\n",
    "    else:\n",
    "        print('공룡이 큰 입으로 당신을 꿀꺽! 쩝쩝! 잡아먹었습니다.:0')\n",
    "\n",
    "    \n",
    "while True:    \n",
    "    opening()\n",
    "    destiny=choice()\n",
    "    ending()\n",
    "    a=input('게임을 다시 시작하시겠습니까? (Yes/No):')\n",
    "    if a=='No' or a=='n': break\n",
    "    elif a=='YES' or a=='y':continue"
   ]
  }
 ],
 "metadata": {
  "kernelspec": {
   "display_name": "Python 3",
   "language": "python",
   "name": "python3"
  },
  "language_info": {
   "codemirror_mode": {
    "name": "ipython",
    "version": 3
   },
   "file_extension": ".py",
   "mimetype": "text/x-python",
   "name": "python",
   "nbconvert_exporter": "python",
   "pygments_lexer": "ipython3",
   "version": "3.7.4"
  }
 },
 "nbformat": 4,
 "nbformat_minor": 2
}
