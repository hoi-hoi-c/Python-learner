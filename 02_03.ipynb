{
 "cells": [
  {
   "cell_type": "code",
   "execution_count": 1,
   "metadata": {},
   "outputs": [
    {
     "name": "stdout",
     "output_type": "stream",
     "text": [
      "Input number:7\n",
      "********** 7 dan **********\n",
      "7 x 1 = 7\n",
      "7 x 2 = 14\n",
      "7 x 3 = 21\n",
      "7 x 4 = 28\n",
      "7 x 5 = 35\n",
      "7 x 6 = 42\n",
      "7 x 7 = 49\n",
      "7 x 8 = 56\n",
      "7 x 9 = 63\n",
      "***************************\n"
     ]
    }
   ],
   "source": [
    "innum=int(input('Input number:'))\n",
    "print('*'*10,innum,'dan','*'*10)\n",
    "\n",
    "dan=1\n",
    "while dan<=9:\n",
    "    print(innum,'x',dan,'=',innum*dan)\n",
    "    dan+=1\n",
    "\n",
    "print('*'*27)"
   ]
  },
  {
   "cell_type": "code",
   "execution_count": 1,
   "metadata": {
    "scrolled": true
   },
   "outputs": [
    {
     "name": "stdout",
     "output_type": "stream",
     "text": [
      "Input number:-1\n",
      "Input number:-3\n",
      "Input number:1\n",
      "********** 1 dan **********\n",
      "1 x 1 = 1\n",
      "1 x 2 = 2\n",
      "1 x 3 = 3\n",
      "1 x 4 = 4\n",
      "1 x 5 = 5\n",
      "1 x 6 = 6\n",
      "1 x 7 = 7\n",
      "1 x 8 = 8\n",
      "1 x 9 = 9\n",
      "***************************\n",
      "Input number:3\n",
      "********** 3 dan **********\n",
      "3 x 1 = 3\n",
      "3 x 2 = 6\n",
      "3 x 3 = 9\n",
      "3 x 4 = 12\n",
      "3 x 5 = 15\n",
      "3 x 6 = 18\n",
      "3 x 7 = 21\n",
      "3 x 8 = 24\n",
      "3 x 9 = 27\n",
      "***************************\n",
      "Input number:99\n"
     ]
    }
   ],
   "source": [
    "while True:\n",
    "    innum=int(input('Input number:'))\n",
    "    if innum<=0:\n",
    "        continue\n",
    "    if innum==99:\n",
    "        break\n",
    "    if innum>0:\n",
    "        print('*'*10,innum,'dan','*'*10)\n",
    "        dan=1\n",
    "        while dan<=9:\n",
    "            print(innum,'x',dan,'=',innum*dan)\n",
    "            dan+=1\n",
    "        print('*'*27)"
   ]
  },
  {
   "cell_type": "code",
   "execution_count": null,
   "metadata": {
    "scrolled": true
   },
   "outputs": [
    {
     "name": "stdout",
     "output_type": "stream",
     "text": [
      "연도를 입력하세요: 2019\n",
      "2019년은 윤년이 아닙니다\n",
      "연도를 입력하세요: 2020\n",
      "2020년은 윤년입니다.\n"
     ]
    }
   ],
   "source": [
    "while True:\n",
    "    year=int(input('연도를 입력하세요: '))\n",
    "    if ((year%400==0)or(year%4==0 and year%100!=0)):\n",
    "        print('%d년은 윤년입니다.'%year)\n",
    "    else:\n",
    "        print(\"%d년은 윤년이 아닙니다\" %year)\n",
    "        continue"
   ]
  }
 ],
 "metadata": {
  "kernelspec": {
   "display_name": "Python 3",
   "language": "python",
   "name": "python3"
  },
  "language_info": {
   "codemirror_mode": {
    "name": "ipython",
    "version": 3
   },
   "file_extension": ".py",
   "mimetype": "text/x-python",
   "name": "python",
   "nbconvert_exporter": "python",
   "pygments_lexer": "ipython3",
   "version": "3.7.4"
  }
 },
 "nbformat": 4,
 "nbformat_minor": 2
}
