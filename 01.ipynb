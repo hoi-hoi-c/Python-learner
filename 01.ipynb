{
 "cells": [
  {
   "cell_type": "code",
   "execution_count": 3,
   "metadata": {},
   "outputs": [
    {
     "name": "stdout",
     "output_type": "stream",
     "text": [
      "2 4 6 8 10 12 14 16 18\n",
      "3 6 9 12 15 18 21 24 27\n",
      "4 8 12 16 20 24 28 32 36\n",
      "5 10 15 20 25 30 35 40 45\n",
      "6 12 18 24 30 36 42 48 54\n",
      "7 14 21 28 35 42 49 56 63\n",
      "8 16 24 32 40 48 56 64 72\n",
      "9 18 27 36 45 54 63 72 81\n",
      "10 20 30 40 50 60 70 80 90\n"
     ]
    }
   ],
   "source": [
    "num=2\n",
    "while num<=10:\n",
    "    print(num*1, num*2, num*3, num*4, num*5, num*6, num*7, num*8 , num*9)\n",
    "    num+=1"
   ]
  },
  {
   "cell_type": "code",
   "execution_count": 10,
   "metadata": {
    "scrolled": true
   },
   "outputs": [
    {
     "name": "stdout",
     "output_type": "stream",
     "text": [
      "*\n",
      "**\n",
      "***\n",
      "****\n",
      "*****\n",
      "******\n",
      "*******\n",
      "********\n",
      "*********\n",
      "**********\n"
     ]
    }
   ],
   "source": [
    "i=1\n",
    "while i<=10:\n",
    "    print(\"*\"*i)\n",
    "    i+=1"
   ]
  },
  {
   "cell_type": "code",
   "execution_count": 35,
   "metadata": {
    "scrolled": false
   },
   "outputs": [
    {
     "name": "stdout",
     "output_type": "stream",
     "text": [
      "            *\n",
      "           **\n",
      "          ***\n",
      "         ****\n",
      "        *****\n",
      "       ******\n",
      "      *******\n",
      "     ********\n",
      "    *********\n",
      "   **********\n",
      "  ***********\n",
      " ************\n",
      "*************\n",
      "            *\n",
      "           **\n",
      "          ***\n",
      "         ****\n",
      "        *****\n",
      "       ******\n",
      "      *******\n",
      "     ********\n",
      "    *********\n",
      "   **********\n",
      "  ***********\n",
      " ************\n",
      "*************\n"
     ]
    }
   ],
   "source": [
    "#방법1\n",
    "i=1\n",
    "a=12\n",
    "while a>=0:\n",
    "    print(\" \"*a+\"*\"*i)\n",
    "    a-=1\n",
    "    i+=1\n",
    "\n",
    "    \n",
    "#방법2\n",
    "i=1\n",
    "while i<=13:\n",
    "    print('%13s'%('*'*i))\n",
    "    i+=1\n"
   ]
  },
  {
   "cell_type": "code",
   "execution_count": 16,
   "metadata": {},
   "outputs": [
    {
     "name": "stdout",
     "output_type": "stream",
     "text": [
      "======= * =======\n",
      "====== *** ======\n",
      "===== ***** =====\n",
      "==== ******* ====\n",
      "=== ********* ===\n",
      "== *********** ==\n",
      "= ************* =\n"
     ]
    }
   ],
   "source": [
    "a=7\n",
    "b=1\n",
    "while a>=1:\n",
    "    print('='*a,'*'*b,'='*a)\n",
    "    a-=1\n",
    "    b+=2"
   ]
  },
  {
   "cell_type": "code",
   "execution_count": 41,
   "metadata": {},
   "outputs": [
    {
     "name": "stdout",
     "output_type": "stream",
     "text": [
      "정수: 6 4\n",
      "6 4\n",
      "x의 값은 6 입니다. y보다 더 큽니다.\n"
     ]
    }
   ],
   "source": [
    "a=input('정수: ')\n",
    "a.split()\n",
    "x=a[0]\n",
    "y=a[2]\n",
    "print(x,y)\n",
    "if x>y:\n",
    "    print('x의 값은',x,'입니다. y보다 더 큽니다.')\n",
    "if y>x:\n",
    "    print('y의 값은',y,'입니다. x보다 더 큽니다.')"
   ]
  }
 ],
 "metadata": {
  "kernelspec": {
   "display_name": "Python 3",
   "language": "python",
   "name": "python3"
  },
  "language_info": {
   "codemirror_mode": {
    "name": "ipython",
    "version": 3
   },
   "file_extension": ".py",
   "mimetype": "text/x-python",
   "name": "python",
   "nbconvert_exporter": "python",
   "pygments_lexer": "ipython3",
   "version": "3.7.4"
  }
 },
 "nbformat": 4,
 "nbformat_minor": 2
}
