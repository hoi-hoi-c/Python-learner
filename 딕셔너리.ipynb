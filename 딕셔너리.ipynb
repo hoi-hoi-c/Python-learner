{
 "cells": [
  {
   "cell_type": "code",
   "execution_count": 17,
   "metadata": {},
   "outputs": [
    {
     "name": "stdout",
     "output_type": "stream",
     "text": [
      "{'name': 'cjh', 'phone': '11234', 'birth': '0111'}\n",
      "cjh\n",
      "{'height': 150}\n",
      "{'a': [1, 2, 3]}\n"
     ]
    },
    {
     "data": {
      "text/plain": [
       "dict_keys(['a'])"
      ]
     },
     "execution_count": 17,
     "metadata": {},
     "output_type": "execute_result"
    }
   ],
   "source": [
    "a=dict()\n",
    "a['name']='cjh'\n",
    "a['phone']='11234'\n",
    "a['birth']='0111'\n",
    "print(a)\n",
    "print(a['name'])\n",
    "\n",
    "a={'height':150}\n",
    "print(a)\n",
    "a={'a':[1,2,3]}\n",
    "print(a)\n",
    "a.keys()"
   ]
  },
  {
   "cell_type": "code",
   "execution_count": 14,
   "metadata": {},
   "outputs": [
    {
     "name": "stdout",
     "output_type": "stream",
     "text": [
      "{'name': 'cjh', 'phone': '11234', 'birth': '0111'}\n",
      "['name', 'phone', 'birth']\n",
      "['cjh', '11234', '0111']\n"
     ]
    }
   ],
   "source": [
    "a=dict()\n",
    "a['name']='cjh'\n",
    "a['phone']='11234'\n",
    "a['birth']='0111'\n",
    "print(a)\n",
    "a.keys()\n",
    "#dict_keys.append('height') 리스트를 사용하는 것과 차이가 없지만(for문 사용 가능),\n",
    "                        #리스트 고유의 append, insert, pop, remove, sort 함수 수행 불가능\n",
    "list_keys=list(a.keys())\n",
    "print(list_keys)\n",
    "list_values=list(a.values())\n",
    "print(list_values)"
   ]
  },
  {
   "cell_type": "code",
   "execution_count": null,
   "metadata": {},
   "outputs": [],
   "source": []
  }
 ],
 "metadata": {
  "kernelspec": {
   "display_name": "Python 3",
   "language": "python",
   "name": "python3"
  },
  "language_info": {
   "codemirror_mode": {
    "name": "ipython",
    "version": 3
   },
   "file_extension": ".py",
   "mimetype": "text/x-python",
   "name": "python",
   "nbconvert_exporter": "python",
   "pygments_lexer": "ipython3",
   "version": "3.7.4"
  }
 },
 "nbformat": 4,
 "nbformat_minor": 2
}
