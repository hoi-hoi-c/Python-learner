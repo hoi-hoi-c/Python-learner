{
 "cells": [
  {
   "cell_type": "code",
   "execution_count": 8,
   "metadata": {},
   "outputs": [
    {
     "name": "stdout",
     "output_type": "stream",
     "text": [
      "123\n",
      "123\n",
      "  123\n",
      "00123\n",
      "123.450000\n",
      "  123.5\n",
      "123.450\n"
     ]
    }
   ],
   "source": [
    "#print()함수 출력 서식\n",
    "print(\"%d\"%123)\n",
    "print('%d'%123)\n",
    "print(\"%5d\"%123)\n",
    "print(\"%05d\"%123)\n",
    "\n",
    "print(\"%f\"%123.45)\n",
    "print(\"%7.1f\"%123.45)\n",
    "print(\"%7.3f\"%123.45)"
   ]
  },
  {
   "cell_type": "code",
   "execution_count": 13,
   "metadata": {},
   "outputs": [
    {
     "name": "stdout",
     "output_type": "stream",
     "text": [
      "123   123 00123\n",
      "123   123 00123\n",
      "300 200 100\n",
      "\n",
      "줄바꿈\\연습\n",
      "\t탭키\t연습\n",
      "글자가\"강조\"되는 효과1\n",
      "글자가'강조'되는 효과2\n",
      "\\\\\\역슬래시 세 개 출력\n"
     ]
    }
   ],
   "source": [
    "#.format()와{}서식, Escape 문자 사용\n",
    "print(\"%d %5d %05d\"%(123,123,123))\n",
    "print(\"{0:d} {1:5d} {2:05d}\".format(123,123,123))\n",
    "\n",
    "print(\"{2:d} {1:d} {0:d}\".format(100,200,300))\n",
    "\n",
    "print(\"\\n줄바꿈\\연습\")\n",
    "print(\"\\t탭키\\t연습\")\n",
    "print(\"글자가\\\"강조\\\"되는 효과1\")\n",
    "print(\"글자가\\'강조\\'되는 효과2\")\n",
    "print(\"\\\\\\\\\\\\역슬래시 세 개 출력\")"
   ]
  },
  {
   "cell_type": "code",
   "execution_count": 22,
   "metadata": {},
   "outputs": [
    {
     "name": "stdout",
     "output_type": "stream",
     "text": [
      "    *\n",
      "   **\n",
      "  ***\n",
      " ****\n",
      "*****\n",
      "        hiDave\n",
      "        hiDave\n",
      "hi        Dave\n"
     ]
    }
   ],
   "source": [
    "print ('%5s'%('*'*1))\n",
    "print ('%5s'%('*'*2))\n",
    "print ('%5s'%('*'*3))\n",
    "print ('%5s'%('*'*4))\n",
    "print ('%5s'%('*'*5))\n",
    "\n",
    "print('%10s'%'hi'+'Dave')\n",
    "print('%-10s'%'hi'+'Dave')"
   ]
  },
  {
   "cell_type": "code",
   "execution_count": 7,
   "metadata": {},
   "outputs": [
    {
     "name": "stdout",
     "output_type": "stream",
     "text": [
      "Input a number: 3\n",
      "*    *    *    \n",
      "**   **   **   \n",
      "***  ***  ***  \n",
      "**** **** **** \n",
      "***************\n"
     ]
    }
   ],
   "source": [
    "a=int(input('Input a number: '))\n",
    "num=1\n",
    "while num<=5:\n",
    "    print (('%-5s'%('*'*num))*a)\n",
    "    num+=1"
   ]
  },
  {
   "cell_type": "code",
   "execution_count": 2,
   "metadata": {},
   "outputs": [
    {
     "name": "stdout",
     "output_type": "stream",
     "text": [
      "Input a number: 3\n",
      "Circumference= 18.8\n",
      "Area=  28.26\n"
     ]
    }
   ],
   "source": [
    "a=float(input('Input a number: '))\n",
    "pi=float(3.14)\n",
    "cir=float(a*2*pi)\n",
    "area=float(a*a*pi)\n",
    "\n",
    "print('Circumference=',round(cir,1)) #round함수 --> round(숫자,반올림해서 나타낼 자릿수)\n",
    "print('Area= ',round(area,1)"
   ]
  },
  {
   "cell_type": "code",
   "execution_count": 4,
   "metadata": {},
   "outputs": [
    {
     "name": "stdout",
     "output_type": "stream",
     "text": [
      "15\n",
      "10\n",
      "50\n",
      "10.0\n",
      "2.0\n",
      "2.0\n",
      "32.0\n"
     ]
    }
   ],
   "source": [
    "a=10\n",
    "a+=5; print(a)\n",
    "a-=5; print(a)\n",
    "a*=5; print(a)\n",
    "a/=5; print(a)\n",
    "a//=5; print(a)\n",
    "a%=5; print(a)\n",
    "a**=5; print(a)"
   ]
  },
  {
   "cell_type": "code",
   "execution_count": 16,
   "metadata": {},
   "outputs": [
    {
     "name": "stdout",
     "output_type": "stream",
     "text": [
      "지폐로 교환할 돈은 얼마?777777\n",
      "50000원짜리--> 15\n",
      "10000원짜리--> 2\n",
      "5000원짜리--> 1\n",
      "1000원짜리--> 2\n",
      "지폐로 바꾸지 못한 돈--> 777\n"
     ]
    }
   ],
   "source": [
    "a=int(input('지폐로 교환할 돈은 얼마?'))\n",
    "print('50000원짜리-->',a//50000, '장')\n",
    "a=a%50000\n",
    "print('10000원짜리-->',a//10000, '장')\n",
    "a=a%10000\n",
    "print('5000원짜리-->',a//5000, '장')\n",
    "a=a%5000\n",
    "print('1000원짜리-->',a//1000, '장')\n",
    "a=a%1000\n",
    "print('지폐로 바꾸지 못한 돈-->',a,'원')"
   ]
  },
  {
   "cell_type": "code",
   "execution_count": 8,
   "metadata": {},
   "outputs": [
    {
     "name": "stdout",
     "output_type": "stream",
     "text": [
      "몸무게를 kg단위로 입력: 86\n",
      "키를 미터 단위로 입력: 1.83\n",
      "당신의 BMI=  25.680074054167036\n"
     ]
    }
   ],
   "source": [
    "weight=float(input('몸무게를 kg단위로 입력: '))\n",
    "height=float(input('키를 미터 단위로 입력: '))\n",
    "bmi=weight/(height**2)\n",
    "print('당신의 BMI= ', bmi)"
   ]
  },
  {
   "cell_type": "code",
   "execution_count": 3,
   "metadata": {},
   "outputs": [
    {
     "name": "stdout",
     "output_type": "stream",
     "text": [
      "투입한 돈: 5000\n",
      "물건값: 2600\n",
      "거스름돈:  2400\n",
      "500원 동전의 개수:  4\n",
      "100원 동전의 개수:  4\n"
     ]
    }
   ],
   "source": [
    "inmoney=int(input('투입한 돈: '))\n",
    "price=int(input('물건값: '))\n",
    "change=inmoney-price\n",
    "print('거스름돈: ', change)\n",
    "print('500원 동전의 개수: ', change//500)\n",
    "change%=500\n",
    "print('100원 동전의 개수: ', change//100)"
   ]
  },
  {
   "cell_type": "code",
   "execution_count": null,
   "metadata": {},
   "outputs": [],
   "source": [
    "#삼항 연산자\n",
    "#가운데가 조건, True일때 앞에, False 일때 뒤에\n",
    "res='합격' if score>=60 else '불합격'"
   ]
  },
  {
   "cell_type": "code",
   "execution_count": 1,
   "metadata": {},
   "outputs": [
    {
     "name": "stdout",
     "output_type": "stream",
     "text": [
      "점수를 입력하세요: 80\n",
      "B0\n",
      "학점입니다.\n"
     ]
    }
   ],
   "source": [
    "score=int(input('점수를 입력하세요: '))\n",
    "if score>=95:\n",
    "    print('A+\\n학점입니다.')\n",
    "elif score>=90:\n",
    "    print('A0\\n학점입니다.')\n",
    "elif score>=85:\n",
    "    print('B+\\n학점입니다.')\n",
    "elif score>=80:\n",
    "    print('B0\\n학점입니다.')\n",
    "elif score>=75:\n",
    "    print('C+\\n학점입니다.')\n",
    "elif score>=70:\n",
    "    print('C0\\n학점입니다.')\n",
    "else:\n",
    "    print('F\\n학점입니다.')"
   ]
  },
  {
   "cell_type": "code",
   "execution_count": null,
   "metadata": {},
   "outputs": [],
   "source": []
  }
 ],
 "metadata": {
  "kernelspec": {
   "display_name": "Python 3",
   "language": "python",
   "name": "python3"
  },
  "language_info": {
   "codemirror_mode": {
    "name": "ipython",
    "version": 3
   },
   "file_extension": ".py",
   "mimetype": "text/x-python",
   "name": "python",
   "nbconvert_exporter": "python",
   "pygments_lexer": "ipython3",
   "version": "3.7.4"
  }
 },
 "nbformat": 4,
 "nbformat_minor": 2
}
