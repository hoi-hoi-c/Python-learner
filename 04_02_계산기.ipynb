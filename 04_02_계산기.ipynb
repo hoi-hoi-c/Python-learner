{
 "cells": [
  {
   "cell_type": "code",
   "execution_count": null,
   "metadata": {},
   "outputs": [
    {
     "name": "stdout",
     "output_type": "stream",
     "text": [
      "첫 번째 정수를 입력하세요: 10\n",
      "두 번째 정수를 입력하세요: 0\n",
      "기호를 입력하세요(+,-,*,/,all,who,end): /\n",
      "분모가 0입니다.\n",
      "첫 번째 정수를 입력하세요: 99\n",
      "두 번째 정수를 입력하세요: 0\n",
      "기호를 입력하세요(+,-,*,/,all,who,end): all\n",
      "addition result: 99\n",
      "substraction result: 99\n",
      "multiplication result: 0\n",
      "분모가 0입니다.\n"
     ]
    }
   ],
   "source": [
    "#계산기\n",
    "def userwrite():\n",
    "    a=int(input('첫 번째 정수를 입력하세요: '))\n",
    "    b=int(input('두 번째 정수를 입력하세요: '))\n",
    "    cal=input('기호를 입력하세요(+,-,*,/,all,who,end): ')\n",
    "    return a,b,cal\n",
    "\n",
    "def calculator(cal):\n",
    "    if cal=='+': print(a+b)\n",
    "    elif cal=='-': print(a-b)\n",
    "    elif cal=='*': print(a*b)\n",
    "    else:\n",
    "        if b!=0: print(a/b)\n",
    "        else: print('분모가 0입니다.')\n",
    "\n",
    "def allfunc():\n",
    "    print('addition result:',a+b)\n",
    "    print('substraction result:',a-b)\n",
    "    print('multiplication result:',a*b)\n",
    "    if b!=0: print('division result:',a/b)\n",
    "    else: print('분모가 0입니다.')\n",
    "def whofunc():\n",
    "    print('-'*20)\n",
    "    print('경영대학, 2014026826, 채정회')\n",
    "    print('-'*20)\n",
    "\n",
    "while True:\n",
    "    a,b,cal=userwrite()\n",
    "    if cal in ['+','-','*','/']:\n",
    "        calculator(cal)\n",
    "    elif cal=='all':\n",
    "        allfunc()\n",
    "    elif cal=='who':\n",
    "        whofunc()\n",
    "    else:\n",
    "        break\n"
   ]
  },
  {
   "cell_type": "code",
   "execution_count": null,
   "metadata": {},
   "outputs": [],
   "source": []
  }
 ],
 "metadata": {
  "kernelspec": {
   "display_name": "Python 3",
   "language": "python",
   "name": "python3"
  },
  "language_info": {
   "codemirror_mode": {
    "name": "ipython",
    "version": 3
   },
   "file_extension": ".py",
   "mimetype": "text/x-python",
   "name": "python",
   "nbconvert_exporter": "python",
   "pygments_lexer": "ipython3",
   "version": "3.7.4"
  }
 },
 "nbformat": 4,
 "nbformat_minor": 2
}
