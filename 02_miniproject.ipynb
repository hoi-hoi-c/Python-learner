{
 "cells": [
  {
   "cell_type": "code",
   "execution_count": 1,
   "metadata": {},
   "outputs": [
    {
     "name": "stdout",
     "output_type": "stream",
     "text": [
      ":: \n",
      "대문자로 표시된 동작만 입력해 주십시오.\n",
      "다시 한번 도전해 보십시오!\n",
      "모래 둑이 있는 도랑에 갖혔습니다.\n",
      "LEFT나 RIGHT 입력\n",
      ":: LEFT\n",
      "모래밭에 STARFISH와 CRAB이 있습니다\n",
      "배가 고픕니다! 어떤 동물을 먹겠습니까?\n",
      ":: CRAB\n",
      "게를 날로 먹어도 문제 없을까요? YES/NO\n",
      ":: YES\n",
      "갑자기 TREE가 눈에 띕니다.\n",
      ":: TREE\n",
      "코코넛 워터를 마시겠습니까? YES/NO\n",
      ":: NO\n",
      "보십시오! 구조하러 비행기가 왔습니다! 해내셨군요!\n"
     ]
    }
   ],
   "source": [
    "do=input(':: ')\n",
    "if do==\"LOOK\":\n",
    "    print('모래 둑이 있는 도랑에 갖혔습니다.')\n",
    "    print('LEFT나 RIGHT 입력')\n",
    "    \n",
    "    do=input(':: ')\n",
    "    if do=='LEFT':\n",
    "        print('도랑 밖으로 기어 나왔습니다. 배가 있네요!')\n",
    "        print('살아 남았습니다!')\n",
    "        \n",
    "    elif do=='RIGHT':\n",
    "        print('아! 둑을 올라갈 수가 없습니다. 오른쪽 둑은 아주 미끄럽습니다.')\n",
    "        print('살아남지 못했습니다 :(')\n",
    "    \n",
    "else:\n",
    "    print('대문자로 표시된 동작만 입력해 주십시오.')\n",
    "    print('다시 한번 도전해 보십시오!')\n",
    "    \n",
    "print('모래 둑이 있는 도랑에 갖혔습니다.')\n",
    "print('LEFT나 RIGHT 입력')\n",
    "\n",
    "do=input(\":: \")\n",
    "if do=='LEFT':\n",
    "    print('모래밭에 STARFISH와 CRAB이 있습니다')\n",
    "    print('배가 고픕니다! 어떤 동물을 먹겠습니까?')\n",
    "    \n",
    "    do=input(':: ')\n",
    "    if do=='STARFISH':\n",
    "        print('살아남지 못했습니다 :(')\n",
    "    elif do=='CRAB':\n",
    "        print('게를 날로 먹어도 문제 없을까요? YES/NO')\n",
    "             \n",
    "        do=input(':: ')\n",
    "        if do=='YES':\n",
    "            print('갑자기 TREE가 눈에 띕니다.')\n",
    "            \n",
    "            do=input(':: ')\n",
    "            if do=='TREE':\n",
    "                print('코코넛 워터를 마시겠습니까? YES/NO')\n",
    "                \n",
    "                do=input(':: ')\n",
    "                if do=='YES':\n",
    "                    print('살아남지 못했습니다 :(')\n",
    "                elif do=='NO':\n",
    "                    print('보십시오! 구조하러 비행기가 왔습니다! 해내셨군요!')\n",
    "        elif do=='NO':\n",
    "            print('살아남지 못했습니다 :(')\n",
    "elif do=='RIGHT':\n",
    "    print('살아남지 못했습니다 :(')\n",
    "                \n"
   ]
  }
 ],
 "metadata": {
  "kernelspec": {
   "display_name": "Python 3",
   "language": "python",
   "name": "python3"
  },
  "language_info": {
   "codemirror_mode": {
    "name": "ipython",
    "version": 3
   },
   "file_extension": ".py",
   "mimetype": "text/x-python",
   "name": "python",
   "nbconvert_exporter": "python",
   "pygments_lexer": "ipython3",
   "version": "3.7.4"
  }
 },
 "nbformat": 4,
 "nbformat_minor": 2
}
