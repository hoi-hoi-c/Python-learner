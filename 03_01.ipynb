{
 "cells": [
  {
   "cell_type": "code",
   "execution_count": null,
   "metadata": {},
   "outputs": [
    {
     "name": "stdout",
     "output_type": "stream",
     "text": [
      "생성된 리스트 [3, 3, 5, 8, 7, 3, 9, 8, 0, 3]\n",
      "어떤 숫자가 리스트 안에 있을까?: 3\n",
      "숫자 3는(은) 리스트에 있네요\n",
      "어떤 숫자가 리스트 안에 있을까?: 5\n",
      "숫자 5는(은) 리스트에 있네요\n"
     ]
    }
   ],
   "source": [
    "import random\n",
    "\n",
    "numbers=[]\n",
    "for num in range(0,10):\n",
    "    numbers.append(random.randrange(0,10))\n",
    "print('생성된 리스트',numbers)\n",
    "\n",
    "while True:\n",
    "    innum=int(input('어떤 숫자가 리스트 안에 있을까?: '))\n",
    "    if innum in numbers:\n",
    "        print('숫자 %d는(은) 리스트에 있네요'%innum)\n",
    "    else:\n",
    "        print('숫자 %d는(은) 리스트에 없네요'%innum)\n",
    "    continue\n"
   ]
  },
  {
   "cell_type": "code",
   "execution_count": 12,
   "metadata": {},
   "outputs": [
    {
     "name": "stdout",
     "output_type": "stream",
     "text": [
      "현재 리스트: [30, 10, 20]\n",
      "append(40) 후의 리스트:[30, 10, 20, 40]\n",
      "pop()으로 추출한 값: 40\n",
      "pop() 후의 리스트: [30, 10, 20]\n",
      "sort() 후의 리스트: [10, 20, 30]\n",
      "reverse() 후의 리스트: [30, 20, 10]\n",
      "20값의 위치: 1\n",
      "insert(2,222) 후의 리스트: [30, 20, 222, 10]\n",
      "remove(222) 후의 리스트: [30, 20, 10]\n",
      "extend([77,88,77]) 후의 리스트: [30, 20, 10, 77, 88, 77]\n",
      "77 값의 개수: 2\n"
     ]
    }
   ],
   "source": [
    "myList=[30,10,20]\n",
    "print('현재 리스트: %s'%myList)\n",
    "\n",
    "myList.append(40)\n",
    "print('append(40) 후의 리스트:%s'%myList)\n",
    "\n",
    "print('pop()으로 추출한 값: %s'%myList.pop())\n",
    "print('pop() 후의 리스트: %s'%myList) #pop(i)의 i를 지정하지 않으면 맨 마지막 값을 빼내서 돌려줌\n",
    "\n",
    "#print('pop()으로 추출한 값: %s'%myList.pop(1))\n",
    "#print('pop(1) 후의 리스트: %s'%myList)\n",
    "\n",
    "myList.sort()\n",
    "print('sort() 후의 리스트: %s'%myList)\n",
    "\n",
    "myList.reverse()\n",
    "print('reverse() 후의 리스트: %s'%myList)\n",
    "\n",
    "print('20값의 위치: %d'%myList.index(20))\n",
    "\n",
    "myList.insert(2,222)\n",
    "print('insert(2,222) 후의 리스트: %s'%myList)\n",
    "\n",
    "myList.remove(222)\n",
    "print('remove(222) 후의 리스트: %s'%myList)\n",
    "\n",
    "myList.extend([77,88,77])\n",
    "print('extend([77,88,77]) 후의 리스트: %s'%myList)\n",
    "\n",
    "print('77 값의 개수: %d'%myList.count(77))"
   ]
  },
  {
   "cell_type": "code",
   "execution_count": 13,
   "metadata": {},
   "outputs": [
    {
     "name": "stdout",
     "output_type": "stream",
     "text": [
      "sorted() 후의 myList: [30, 10, 20]\n",
      "sorted() 후의 newList: [10, 20, 30]\n"
     ]
    }
   ],
   "source": [
    "myList=[30,10,20]\n",
    "newList=sorted(myList)\n",
    "print(\"sorted() 후의 myList: %s\"%myList)\n",
    "print(\"sorted() 후의 newList: %s\"%newList)"
   ]
  },
  {
   "cell_type": "code",
   "execution_count": 20,
   "metadata": {},
   "outputs": [
    {
     "name": "stdout",
     "output_type": "stream",
     "text": [
      "Press Enter and count 20s\n",
      "Has it passed 20s? Press Enter!\n",
      "2.0s has passed!\n"
     ]
    }
   ],
   "source": [
    "import time\n",
    "input('Press Enter and count 20s')\n",
    "start=time.time()\n",
    "input('Has it passed 20s? Press Enter!')\n",
    "end=time.time()\n",
    "\n",
    "waiting=round(end-start,0)\n",
    "print('{}s has passed!'.format(waiting))\n"
   ]
  },
  {
   "cell_type": "code",
   "execution_count": 2,
   "metadata": {},
   "outputs": [
    {
     "name": "stdout",
     "output_type": "stream",
     "text": [
      "[타자게임] 준비되면 엔터!\n",
      "*문제 1\n",
      "fox\n",
      "fox\n",
      "통과!\n",
      "*문제 2\n",
      "snake\n",
      "snake\n",
      "통과!\n",
      "*문제 3\n",
      "penguin\n",
      "penguin\n",
      "통과!\n",
      "*문제 4\n",
      "frog\n",
      "frog\n",
      "통과!\n",
      "*문제 5\n",
      "bird\n",
      "bird\n",
      "통과!\n",
      "*문제 6\n",
      "tiger\n",
      "tiger\n",
      "통과!\n",
      "*문제 7\n",
      "dog\n",
      "dog\n",
      "통과!\n",
      "*문제 8\n",
      "cat\n",
      "cat\n",
      "통과!\n",
      "*문제 9\n",
      "fish\n",
      "f\n",
      "재시도!\n",
      "fish\n",
      "f\n",
      "재시도!\n",
      "fish\n",
      "f\n",
      "재시도!\n",
      "fish\n",
      "f\n",
      "재시도!\n",
      "fish\n",
      "f\n",
      "재시도!\n",
      "fish\n",
      "fish\n",
      "통과!\n",
      "*문제 10\n",
      "bear\n",
      "bear\n",
      "통과!\n",
      "DONE\n",
      "타자 시간: 17.47278928756714\n"
     ]
    }
   ],
   "source": [
    "import time\n",
    "import random\n",
    "word = ['snake', 'frog', 'tiger', 'bear', 'fox', 'cat', 'dog', 'fish', 'bird', 'penguin']\n",
    "\n",
    "input('[타자게임] 준비되면 엔터!')\n",
    "start=time.time()\n",
    "i=1\n",
    "\n",
    "while len(word)>=1:\n",
    "    ran_word=random.choice(word)\n",
    "    print('*문제',i)\n",
    "   \n",
    "    while True:\n",
    "        print(ran_word)\n",
    "        a=input()\n",
    "        if a==ran_word:\n",
    "            word.pop(word.index(ran_word))\n",
    "            #print(word)\n",
    "            print('통과!')\n",
    "            break\n",
    "        else:\n",
    "            print('재시도!')\n",
    "            continue\n",
    "    i+=1\n",
    "    \n",
    "#if len(word)<=0:\n",
    "print('DONE')\n",
    "end=time.time()\n",
    "time_taken=end-start\n",
    "print('타자 시간:',time_taken)"
   ]
  },
  {
   "cell_type": "code",
   "execution_count": 5,
   "metadata": {},
   "outputs": [
    {
     "name": "stdout",
     "output_type": "stream",
     "text": [
      "frog\n",
      "['snake', 'tiger', 'bear', 'fox', 'cat', 'dog', 'fish', 'bird', 'penguin']\n",
      "bird\n",
      "['snake', 'tiger', 'bear', 'fox', 'cat', 'dog', 'fish', 'penguin']\n",
      "dog\n",
      "['snake', 'tiger', 'bear', 'fox', 'cat', 'fish', 'penguin']\n",
      "cat\n",
      "['snake', 'tiger', 'bear', 'fox', 'fish', 'penguin']\n",
      "penguin\n",
      "['snake', 'tiger', 'bear', 'fox', 'fish']\n",
      "snake\n",
      "['tiger', 'bear', 'fox', 'fish']\n",
      "fox\n",
      "['tiger', 'bear', 'fish']\n",
      "tiger\n",
      "['bear', 'fish']\n",
      "fish\n",
      "['bear']\n",
      "bear\n",
      "[]\n"
     ]
    }
   ],
   "source": [
    "#재현씨 코드\n",
    "import random\n",
    "import time\n",
    "\n",
    "str_list = [\"frog\",\"snake\",\"fox\",\"tiger\",\"horse\",\"cow\",\"fish\",\"starfish\",\"mouse\",\"rabbit\",\"dragon\"]\n",
    "random.shuffle(str_list)\n",
    "\n",
    "start = time.time()\n",
    "for i in range(0,len(str_list)):\n",
    "    \n",
    "    \n",
    "    print(f\"*문제{i+1}\")\n",
    "    print(str_list[i])\n",
    "    res = input(\"타자를 입력하세요.\")\n",
    "    if(res==str_list[i]):\n",
    "        print(\"통과!\")\n",
    "    else :\n",
    "        res = input(\"타자를 입력하세요.\")\n",
    "        \n",
    "end = time.time() \n",
    "\n",
    "sec_res = int(end-start)\n",
    "print(f\"타자 시간: {sec_res}초\")"
   ]
  }
 ],
 "metadata": {
  "kernelspec": {
   "display_name": "Python 3",
   "language": "python",
   "name": "python3"
  },
  "language_info": {
   "codemirror_mode": {
    "name": "ipython",
    "version": 3
   },
   "file_extension": ".py",
   "mimetype": "text/x-python",
   "name": "python",
   "nbconvert_exporter": "python",
   "pygments_lexer": "ipython3",
   "version": "3.7.4"
  }
 },
 "nbformat": 4,
 "nbformat_minor": 2
}
