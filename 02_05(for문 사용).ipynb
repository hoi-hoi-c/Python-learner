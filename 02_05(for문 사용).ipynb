{
 "cells": [
  {
   "cell_type": "code",
   "execution_count": 1,
   "metadata": {},
   "outputs": [
    {
     "name": "stdout",
     "output_type": "stream",
     "text": [
      "python\n",
      "python\n",
      "python\n",
      "python\n",
      "python\n"
     ]
    }
   ],
   "source": [
    "for i in[1,1,1,1,1]:\n",
    "    print('python')"
   ]
  },
  {
   "cell_type": "code",
   "execution_count": 3,
   "metadata": {},
   "outputs": [
    {
     "name": "stdout",
     "output_type": "stream",
     "text": [
      "python 5\n",
      "python 4\n",
      "python 3\n",
      "python 2\n",
      "python 1\n"
     ]
    }
   ],
   "source": [
    "for i in[5,4,3,2,1]:\n",
    "    print('python',i)"
   ]
  },
  {
   "cell_type": "code",
   "execution_count": 9,
   "metadata": {},
   "outputs": [
    {
     "name": "stdout",
     "output_type": "stream",
     "text": [
      "0\n",
      "1\n",
      "2\n",
      "3\n",
      "4\n",
      "5\n",
      "0\n",
      "1\n",
      "2\n",
      "3\n",
      "4\n",
      "5\n",
      "0\n",
      "1\n",
      "2\n",
      "3\n",
      "4\n",
      "5\n",
      "6\n",
      "7\n",
      "8\n",
      "9\n",
      "10\n"
     ]
    }
   ],
   "source": [
    "#range(start=0, stop, step=1) \n",
    "#stop은 포함되지 않는다. stop-1 값에서 종료\n",
    "for i in range(0, 6, 1):\n",
    "    print(i)\n",
    "\n",
    "#step 생략했을 때는 자동적으로 step=1\n",
    "for i in range(0,6):\n",
    "    print(i)\n",
    "\n",
    "#0~10까지 출력될 것\n",
    "for i in range(11):\n",
    "    print(i)"
   ]
  },
  {
   "cell_type": "code",
   "execution_count": 15,
   "metadata": {},
   "outputs": [
    {
     "name": "stdout",
     "output_type": "stream",
     "text": [
      "i= 1\n",
      "i= 2\n",
      "i= 3\n",
      "i= 4\n",
      "i= 5\n",
      "9* 1 = 9\n",
      "9* 2 = 18\n",
      "9* 3 = 27\n",
      "9* 4 = 36\n",
      "9* 5 = 45\n"
     ]
    }
   ],
   "source": [
    "for i in [1,2,3,4,5]:\n",
    "    print('i=',i)\n",
    "for i in [1,2,3,4,5]:\n",
    "    print('9*',i,'=',9*i)"
   ]
  },
  {
   "cell_type": "code",
   "execution_count": 16,
   "metadata": {},
   "outputs": [
    {
     "name": "stdout",
     "output_type": "stream",
     "text": [
      "1\n",
      "2\n",
      "3\n",
      "4\n",
      "5\n",
      "6\n",
      "7\n",
      "8\n",
      "9\n",
      "10\n"
     ]
    }
   ],
   "source": [
    "#while문과 for문 비교\n",
    "#while문\n",
    "count=0\n",
    "while(count<10):\n",
    "    count+=1\n",
    "    print(count)"
   ]
  },
  {
   "cell_type": "code",
   "execution_count": 17,
   "metadata": {},
   "outputs": [
    {
     "name": "stdout",
     "output_type": "stream",
     "text": [
      "1\n",
      "2\n",
      "3\n",
      "4\n",
      "5\n",
      "6\n",
      "7\n",
      "8\n",
      "9\n",
      "10\n",
      "1\n",
      "2\n",
      "3\n",
      "4\n",
      "5\n",
      "6\n",
      "7\n",
      "8\n",
      "9\n",
      "10\n",
      "0\n",
      "1\n",
      "2\n",
      "3\n",
      "4\n",
      "5\n",
      "6\n",
      "7\n",
      "8\n",
      "9\n",
      "10\n"
     ]
    }
   ],
   "source": [
    "#while문과 for문 비교\n",
    "#for문\n",
    "for count in range(1,11,1):\n",
    "    print(count)\n",
    "for count in range(1,11):\n",
    "    print(count)\n",
    "for count in range(11):\n",
    "    print(count)"
   ]
  },
  {
   "cell_type": "code",
   "execution_count": 21,
   "metadata": {},
   "outputs": [
    {
     "name": "stdout",
     "output_type": "stream",
     "text": [
      "s: 15\n",
      "s: 15\n"
     ]
    }
   ],
   "source": [
    "s=0\n",
    "for i in [1,2,3,4,5]:\n",
    "    s=s+i\n",
    "print(\"s:\",s)\n",
    "\n",
    "s=0\n",
    "for i in range(1,6):\n",
    "    s=s+i\n",
    "print(\"s:\",s)"
   ]
  },
  {
   "cell_type": "code",
   "execution_count": 24,
   "metadata": {},
   "outputs": [
    {
     "name": "stdout",
     "output_type": "stream",
     "text": [
      "s: 15\n",
      "5\n",
      "5\n",
      "4\n",
      "9\n",
      "3\n",
      "12\n",
      "2\n",
      "14\n",
      "1\n",
      "15\n",
      "s: 15\n"
     ]
    }
   ],
   "source": [
    "s=0\n",
    "for i in [5,4,3,2,1]:\n",
    "    s=s+i\n",
    "print(\"s:\",s)\n",
    "\n",
    "s=0\n",
    "for i in range(5,0,-1):\n",
    "    print(i)\n",
    "    s=s+i\n",
    "    print(s)\n",
    "print(\"s:\",s)"
   ]
  },
  {
   "cell_type": "code",
   "execution_count": 28,
   "metadata": {},
   "outputs": [
    {
     "name": "stdout",
     "output_type": "stream",
     "text": [
      "값을 입력하세요:100\n",
      "1에서 100까지의 합계: 5050\n"
     ]
    }
   ],
   "source": [
    "num=int(input('값을 입력하세요:'))\n",
    "sum=0\n",
    "for i in range(1,num+1,1):\n",
    "    sum=sum+i\n",
    "print('1에서 {}까지의 합계: {}'.format(num,sum))"
   ]
  },
  {
   "cell_type": "code",
   "execution_count": 30,
   "metadata": {},
   "outputs": [
    {
     "name": "stdout",
     "output_type": "stream",
     "text": [
      "시작값을 입력하세요: 2\n",
      "끝값을 입력하세요: 300\n",
      "증가값을 입력하세요: 3\n",
      "2에서 300까지 3씩 증가시킨 값의 합계: 15050\n"
     ]
    }
   ],
   "source": [
    "start=int(input('시작값을 입력하세요: '))\n",
    "end=int(input('끝값을 입력하세요: '))\n",
    "up=int(input('증가값을 입력하세요: '))\n",
    "\n",
    "sum=0\n",
    "for i in range(start,end+1,up):\n",
    "    sum=sum+i\n",
    "print('{}에서 {}까지 {}씩 증가시킨 값의 합계: {}'.format(start,end,up,sum))\n",
    "    "
   ]
  },
  {
   "cell_type": "code",
   "execution_count": 32,
   "metadata": {},
   "outputs": [
    {
     "name": "stdout",
     "output_type": "stream",
     "text": [
      "단을 입력하세요: 5\n",
      "5X1= 5\n",
      "5X2= 10\n",
      "5X3= 15\n",
      "5X4= 20\n",
      "5X5= 25\n",
      "5X6= 30\n",
      "5X7= 35\n",
      "5X8= 40\n",
      "5X9= 45\n"
     ]
    }
   ],
   "source": [
    "num=int(input('단을 입력하세요: '))\n",
    "\n",
    "for i in range(1,10):\n",
    "    print('{}X{}='.format(num,i),num*i)"
   ]
  },
  {
   "cell_type": "code",
   "execution_count": 57,
   "metadata": {},
   "outputs": [
    {
     "name": "stdout",
     "output_type": "stream",
     "text": [
      "#2단#\t #3단#\t #4단#\t #5단#\t #6단#\t #7단#\t #8단#\t #9단#\t \n",
      "2X1=2\t 3X1=3\t 4X1=4\t 5X1=5\t 6X1=6\t 7X1=7\t 8X1=8\t 9X1=9\t \n",
      "2X2=4\t 3X2=6\t 4X2=8\t 5X2=10\t 6X2=12\t 7X2=14\t 8X2=16\t 9X2=18\t \n",
      "2X3=6\t 3X3=9\t 4X3=12\t 5X3=15\t 6X3=18\t 7X3=21\t 8X3=24\t 9X3=27\t \n",
      "2X4=8\t 3X4=12\t 4X4=16\t 5X4=20\t 6X4=24\t 7X4=28\t 8X4=32\t 9X4=36\t \n",
      "2X5=10\t 3X5=15\t 4X5=20\t 5X5=25\t 6X5=30\t 7X5=35\t 8X5=40\t 9X5=45\t \n",
      "2X6=12\t 3X6=18\t 4X6=24\t 5X6=30\t 6X6=36\t 7X6=42\t 8X6=48\t 9X6=54\t \n",
      "2X7=14\t 3X7=21\t 4X7=28\t 5X7=35\t 6X7=42\t 7X7=49\t 8X7=56\t 9X7=63\t \n",
      "2X8=16\t 3X8=24\t 4X8=32\t 5X8=40\t 6X8=48\t 7X8=56\t 8X8=64\t 9X8=72\t \n",
      "2X9=18\t 3X9=27\t 4X9=36\t 5X9=45\t 6X9=54\t 7X9=63\t 8X9=72\t 9X9=81\t \n"
     ]
    }
   ],
   "source": [
    "for m in range(2,10):\n",
    "    print('#{}단#\\t'.format(m), end=\" \")\n",
    "print()\n",
    "for i in range(1,10):\n",
    "    for j in range(2,10):\n",
    "        print('{}X{}={}\\t'.format(j,i,j*i), end=\" \")\n",
    "    print()"
   ]
  },
  {
   "cell_type": "code",
   "execution_count": null,
   "metadata": {},
   "outputs": [],
   "source": []
  }
 ],
 "metadata": {
  "kernelspec": {
   "display_name": "Python 3",
   "language": "python",
   "name": "python3"
  },
  "language_info": {
   "codemirror_mode": {
    "name": "ipython",
    "version": 3
   },
   "file_extension": ".py",
   "mimetype": "text/x-python",
   "name": "python",
   "nbconvert_exporter": "python",
   "pygments_lexer": "ipython3",
   "version": "3.7.4"
  }
 },
 "nbformat": 4,
 "nbformat_minor": 2
}
